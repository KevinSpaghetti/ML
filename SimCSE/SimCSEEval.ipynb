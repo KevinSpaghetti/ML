{
 "cells": [
  {
   "cell_type": "code",
   "execution_count": 1,
   "outputs": [
    {
     "name": "stdout",
     "output_type": "stream",
     "text": [
      "Requirement already satisfied: simcse in c:\\users\\kevin\\appdata\\local\\packages\\pythonsoftwarefoundation.python.3.9_qbz5n2kfra8p0\\localcache\\local-packages\\python39\\site-packages (0.4)\n",
      "Requirement already satisfied: tqdm in c:\\users\\kevin\\appdata\\local\\packages\\pythonsoftwarefoundation.python.3.9_qbz5n2kfra8p0\\localcache\\local-packages\\python39\\site-packages (from simcse) (4.49.0)\n",
      "Requirement already satisfied: scikit-learn in c:\\users\\kevin\\appdata\\local\\packages\\pythonsoftwarefoundation.python.3.9_qbz5n2kfra8p0\\localcache\\local-packages\\python39\\site-packages (from simcse) (0.24.0)\n",
      "Requirement already satisfied: scipy<1.6,>=1.5.4 in c:\\users\\kevin\\appdata\\local\\packages\\pythonsoftwarefoundation.python.3.9_qbz5n2kfra8p0\\localcache\\local-packages\\python39\\site-packages (from simcse) (1.5.4)\n",
      "Requirement already satisfied: transformers in c:\\users\\kevin\\appdata\\local\\packages\\pythonsoftwarefoundation.python.3.9_qbz5n2kfra8p0\\localcache\\local-packages\\python39\\site-packages (from simcse) (4.2.1)\n",
      "Requirement already satisfied: torch in c:\\users\\kevin\\appdata\\local\\packages\\pythonsoftwarefoundation.python.3.9_qbz5n2kfra8p0\\localcache\\local-packages\\python39\\site-packages (from simcse) (1.11.0)\n",
      "Requirement already satisfied: numpy<1.20,>=1.19.5 in c:\\users\\kevin\\appdata\\local\\packages\\pythonsoftwarefoundation.python.3.9_qbz5n2kfra8p0\\localcache\\local-packages\\python39\\site-packages (from simcse) (1.19.5)\n",
      "Requirement already satisfied: setuptools in c:\\users\\kevin\\appdata\\local\\packages\\pythonsoftwarefoundation.python.3.9_qbz5n2kfra8p0\\localcache\\local-packages\\python39\\site-packages (from simcse) (49.3.0)\n",
      "Requirement already satisfied: joblib>=0.11 in c:\\users\\kevin\\appdata\\local\\packages\\pythonsoftwarefoundation.python.3.9_qbz5n2kfra8p0\\localcache\\local-packages\\python39\\site-packages (from scikit-learn->simcse) (1.1.0)\n",
      "Requirement already satisfied: threadpoolctl>=2.0.0 in c:\\users\\kevin\\appdata\\local\\packages\\pythonsoftwarefoundation.python.3.9_qbz5n2kfra8p0\\localcache\\local-packages\\python39\\site-packages (from scikit-learn->simcse) (3.1.0)\n",
      "Requirement already satisfied: typing-extensions in c:\\users\\kevin\\appdata\\local\\packages\\pythonsoftwarefoundation.python.3.9_qbz5n2kfra8p0\\localcache\\local-packages\\python39\\site-packages (from torch->simcse) (4.2.0)\n",
      "Requirement already satisfied: regex!=2019.12.17 in c:\\users\\kevin\\appdata\\local\\packages\\pythonsoftwarefoundation.python.3.9_qbz5n2kfra8p0\\localcache\\local-packages\\python39\\site-packages (from transformers->simcse) (2022.4.24)\n",
      "Requirement already satisfied: sacremoses in c:\\users\\kevin\\appdata\\local\\packages\\pythonsoftwarefoundation.python.3.9_qbz5n2kfra8p0\\localcache\\local-packages\\python39\\site-packages (from transformers->simcse) (0.0.53)\n",
      "Requirement already satisfied: requests in c:\\users\\kevin\\appdata\\local\\packages\\pythonsoftwarefoundation.python.3.9_qbz5n2kfra8p0\\localcache\\local-packages\\python39\\site-packages (from transformers->simcse) (2.27.1)\n",
      "Requirement already satisfied: tokenizers==0.9.4 in c:\\users\\kevin\\appdata\\local\\packages\\pythonsoftwarefoundation.python.3.9_qbz5n2kfra8p0\\localcache\\local-packages\\python39\\site-packages (from transformers->simcse) (0.9.4)\n",
      "Requirement already satisfied: filelock in c:\\users\\kevin\\appdata\\local\\packages\\pythonsoftwarefoundation.python.3.9_qbz5n2kfra8p0\\localcache\\local-packages\\python39\\site-packages (from transformers->simcse) (3.7.0)\n",
      "Requirement already satisfied: packaging in c:\\users\\kevin\\appdata\\local\\packages\\pythonsoftwarefoundation.python.3.9_qbz5n2kfra8p0\\localcache\\local-packages\\python39\\site-packages (from transformers->simcse) (21.3)\n",
      "Requirement already satisfied: pyparsing!=3.0.5,>=2.0.2 in c:\\users\\kevin\\appdata\\local\\packages\\pythonsoftwarefoundation.python.3.9_qbz5n2kfra8p0\\localcache\\local-packages\\python39\\site-packages (from packaging->transformers->simcse) (3.0.9)\n",
      "Requirement already satisfied: idna<4,>=2.5 in c:\\users\\kevin\\appdata\\local\\packages\\pythonsoftwarefoundation.python.3.9_qbz5n2kfra8p0\\localcache\\local-packages\\python39\\site-packages (from requests->transformers->simcse) (3.3)\n",
      "Requirement already satisfied: certifi>=2017.4.17 in c:\\users\\kevin\\appdata\\local\\packages\\pythonsoftwarefoundation.python.3.9_qbz5n2kfra8p0\\localcache\\local-packages\\python39\\site-packages (from requests->transformers->simcse) (2021.10.8)\n",
      "Requirement already satisfied: urllib3<1.27,>=1.21.1 in c:\\users\\kevin\\appdata\\local\\packages\\pythonsoftwarefoundation.python.3.9_qbz5n2kfra8p0\\localcache\\local-packages\\python39\\site-packages (from requests->transformers->simcse) (1.26.9)\n",
      "Requirement already satisfied: charset-normalizer~=2.0.0 in c:\\users\\kevin\\appdata\\local\\packages\\pythonsoftwarefoundation.python.3.9_qbz5n2kfra8p0\\localcache\\local-packages\\python39\\site-packages (from requests->transformers->simcse) (2.0.12)\n",
      "Requirement already satisfied: six in c:\\users\\kevin\\appdata\\local\\packages\\pythonsoftwarefoundation.python.3.9_qbz5n2kfra8p0\\localcache\\local-packages\\python39\\site-packages (from sacremoses->transformers->simcse) (1.16.0)\n",
      "Requirement already satisfied: click in c:\\users\\kevin\\appdata\\local\\packages\\pythonsoftwarefoundation.python.3.9_qbz5n2kfra8p0\\localcache\\local-packages\\python39\\site-packages (from sacremoses->transformers->simcse) (8.1.3)\n",
      "Requirement already satisfied: colorama in c:\\users\\kevin\\appdata\\local\\packages\\pythonsoftwarefoundation.python.3.9_qbz5n2kfra8p0\\localcache\\local-packages\\python39\\site-packages (from click->sacremoses->transformers->simcse) (0.4.4)\n",
      "Note: you may need to restart the kernel to use updated packages.\n"
     ]
    },
    {
     "name": "stderr",
     "output_type": "stream",
     "text": [
      "WARNING: You are using pip version 22.0.4; however, version 22.1.2 is available.\n",
      "You should consider upgrading via the 'C:\\Users\\Kevin\\AppData\\Local\\Microsoft\\WindowsApps\\PythonSoftwareFoundation.Python.3.9_qbz5n2kfra8p0\\python.exe -m pip install --upgrade pip' command.\n"
     ]
    }
   ],
   "source": [
    "%pip install simcse"
   ],
   "metadata": {
    "collapsed": false,
    "pycharm": {
     "name": "#%%\n"
    }
   }
  },
  {
   "cell_type": "code",
   "execution_count": 2,
   "outputs": [],
   "source": [
    "import pandas as pd\n",
    "from tqdm import tqdm\n",
    "\n",
    "from simcse import SimCSE"
   ],
   "metadata": {
    "collapsed": false,
    "pycharm": {
     "name": "#%%\n"
    }
   }
  },
  {
   "cell_type": "markdown",
   "source": [
    "Lettura del dataset e creazione del modello SimCSE"
   ],
   "metadata": {
    "collapsed": false,
    "pycharm": {
     "name": "#%% md\n"
    }
   }
  },
  {
   "cell_type": "code",
   "execution_count": 3,
   "metadata": {
    "collapsed": true,
    "pycharm": {
     "name": "#%%\n"
    }
   },
   "outputs": [
    {
     "name": "stdout",
     "output_type": "stream",
     "text": [
      "NROWS: 7330\n"
     ]
    }
   ],
   "source": [
    "df = pd.read_csv('./datasets/combined.csv', sep=\",\")\n",
    "\n",
    "print(f\"NROWS: {len(df)}\")\n",
    "\n",
    "model = SimCSE(\"princeton-nlp/sup-simcse-bert-base-uncased\")\n"
   ]
  },
  {
   "cell_type": "markdown",
   "source": [
    "Costruiamo l'indice con i termini meddra"
   ],
   "metadata": {
    "collapsed": false,
    "pycharm": {
     "name": "#%% md\n"
    }
   }
  },
  {
   "cell_type": "code",
   "execution_count": 4,
   "outputs": [
    {
     "name": "stderr",
     "output_type": "stream",
     "text": [
      "06/01/2022 20:20:37 - INFO - faiss.loader -   Loading faiss with AVX2 support.\n",
      "06/01/2022 20:20:37 - INFO - faiss.loader -   Could not load library with AVX2 support due to:\n",
      "ModuleNotFoundError(\"No module named 'faiss.swigfaiss_avx2'\")\n",
      "06/01/2022 20:20:37 - INFO - faiss.loader -   Loading faiss.\n",
      "06/01/2022 20:20:38 - INFO - faiss.loader -   Successfully loaded faiss.\n",
      "06/01/2022 20:20:38 - INFO - simcse.tool -   Encoding embeddings for sentences...\n",
      "100%|██████████| 16/16 [00:27<00:00,  1.70s/it]\n",
      "06/01/2022 20:21:05 - INFO - simcse.tool -   Building index...\n",
      "06/01/2022 20:21:05 - INFO - simcse.tool -   Use CPU-version faiss\n",
      "06/01/2022 20:21:05 - INFO - simcse.tool -   Finished\n"
     ]
    }
   ],
   "source": [
    "model.build_index(df['meddra'].unique().tolist())"
   ],
   "metadata": {
    "collapsed": false,
    "pycharm": {
     "name": "#%%\n"
    }
   }
  },
  {
   "cell_type": "raw",
   "source": [
    "In questo indice cerchiamo gli ade nel dataset, usiamo tutto il dataset come test set dato che non abbiamo fatto il training del modello"
   ],
   "metadata": {
    "collapsed": false,
    "pycharm": {
     "name": "#%% raw\n"
    }
   }
  },
  {
   "cell_type": "code",
   "execution_count": 5,
   "outputs": [
    {
     "name": "stderr",
     "output_type": "stream",
     "text": [
      "100%|██████████| 115/115 [04:29<00:00,  2.35s/it]\n"
     ]
    }
   ],
   "source": [
    "results = model.search(df['ade'].tolist(), top_k=5)"
   ],
   "metadata": {
    "collapsed": false,
    "pycharm": {
     "name": "#%%\n"
    }
   }
  },
  {
   "cell_type": "markdown",
   "source": [
    "Vediamo quanti ade vengono associati al giusto meddra e quante volte il meddra corretto appare nei 5 meddra più simili all'ade"
   ],
   "metadata": {
    "collapsed": false,
    "pycharm": {
     "name": "#%% md\n"
    }
   }
  },
  {
   "cell_type": "code",
   "execution_count": 9,
   "outputs": [
    {
     "name": "stderr",
     "output_type": "stream",
     "text": [
      "7330it [00:00, 1831759.31it/s]"
     ]
    },
    {
     "name": "stdout",
     "output_type": "stream",
     "text": [
      "\n",
      "Examples: 7330\n",
      "Correctly classified: 3227\n",
      "Correct meddra is in the top 5: 1215\n"
     ]
    },
    {
     "name": "stderr",
     "output_type": "stream",
     "text": [
      "\n"
     ]
    }
   ],
   "source": [
    "ades = df['ade'].unique().tolist()\n",
    "real_meddras = df['meddra'].tolist()\n",
    "predicted_meddras = []\n",
    "for result_list in results:\n",
    "    res = []\n",
    "    for (meddra, _) in result_list:\n",
    "        res.append(meddra)\n",
    "    predicted_meddras.append(res)\n",
    "\n",
    "to_classify = df.shape[0]\n",
    "correctly_classified = 0\n",
    "correct_meddra_in_top_5 = 0\n",
    "wrongly_classified = 0\n",
    "\n",
    "for (real_meddra, predicted_meddra_options) in tqdm(zip(real_meddras, predicted_meddras)):\n",
    "    if predicted_meddra_options:\n",
    "        if predicted_meddra_options[0] == real_meddra:\n",
    "            correctly_classified += 1\n",
    "        elif real_meddra in predicted_meddra_options:\n",
    "            correct_meddra_in_top_5 += 1\n",
    "        else:\n",
    "            wrongly_classified += 1\n",
    "    else:\n",
    "        wrongly_classified += 1\n",
    "\n",
    "print()\n",
    "print(f\"Examples: {to_classify}\")\n",
    "print(f\"Correctly classified: {correctly_classified}\")\n",
    "print(f\"Correct meddra is in the top 5: {correct_meddra_in_top_5}\")"
   ],
   "metadata": {
    "collapsed": false,
    "pycharm": {
     "name": "#%%\n"
    }
   }
  },
  {
   "cell_type": "code",
   "execution_count": 10,
   "outputs": [
    {
     "name": "stdout",
     "output_type": "stream",
     "text": [
      "1444\n"
     ]
    }
   ],
   "source": [
    "print(len(df[df['ade'] == df['meddra']]))"
   ],
   "metadata": {
    "collapsed": false,
    "pycharm": {
     "name": "#%%\n"
    }
   }
  }
 ],
 "metadata": {
  "kernelspec": {
   "display_name": "Python 3",
   "language": "python",
   "name": "python3"
  },
  "language_info": {
   "codemirror_mode": {
    "name": "ipython",
    "version": 2
   },
   "file_extension": ".py",
   "mimetype": "text/x-python",
   "name": "python",
   "nbconvert_exporter": "python",
   "pygments_lexer": "ipython2",
   "version": "2.7.6"
  }
 },
 "nbformat": 4,
 "nbformat_minor": 0
}
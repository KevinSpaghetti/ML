{
 "nbformat": 4,
 "nbformat_minor": 0,
 "metadata": {
  "colab": {
   "name": "BertCL.ipynb",
   "provenance": [],
   "collapsed_sections": []
  },
  "kernelspec": {
   "name": "python3",
   "display_name": "Python 3"
  },
  "language_info": {
   "name": "python"
  },
  "accelerator": "GPU"
 },
 "cells": [
  {
   "cell_type": "code",
   "source": [
    "!pip install transformers\n",
    "!pip install seaborn"
   ],
   "metadata": {
    "id": "guuJvKirXiQr",
    "colab": {
     "base_uri": "https://localhost:8080/"
    },
    "outputId": "af4a9803-1f0d-4269-9056-199751037ec5",
    "pycharm": {
     "name": "#%%\n"
    }
   },
   "execution_count": 1,
   "outputs": [
    {
     "output_type": "stream",
     "name": "stdout",
     "text": [
      "Looking in indexes: https://pypi.org/simple, https://us-python.pkg.dev/colab-wheels/public/simple/\n",
      "Requirement already satisfied: transformers in /usr/local/lib/python3.7/dist-packages (4.19.2)\n",
      "Requirement already satisfied: pyyaml>=5.1 in /usr/local/lib/python3.7/dist-packages (from transformers) (6.0)\n",
      "Requirement already satisfied: packaging>=20.0 in /usr/local/lib/python3.7/dist-packages (from transformers) (21.3)\n",
      "Requirement already satisfied: requests in /usr/local/lib/python3.7/dist-packages (from transformers) (2.23.0)\n",
      "Requirement already satisfied: importlib-metadata in /usr/local/lib/python3.7/dist-packages (from transformers) (4.11.4)\n",
      "Requirement already satisfied: regex!=2019.12.17 in /usr/local/lib/python3.7/dist-packages (from transformers) (2019.12.20)\n",
      "Requirement already satisfied: huggingface-hub<1.0,>=0.1.0 in /usr/local/lib/python3.7/dist-packages (from transformers) (0.7.0)\n",
      "Requirement already satisfied: tokenizers!=0.11.3,<0.13,>=0.11.1 in /usr/local/lib/python3.7/dist-packages (from transformers) (0.12.1)\n",
      "Requirement already satisfied: filelock in /usr/local/lib/python3.7/dist-packages (from transformers) (3.7.0)\n",
      "Requirement already satisfied: tqdm>=4.27 in /usr/local/lib/python3.7/dist-packages (from transformers) (4.64.0)\n",
      "Requirement already satisfied: numpy>=1.17 in /usr/local/lib/python3.7/dist-packages (from transformers) (1.21.6)\n",
      "Requirement already satisfied: typing-extensions>=3.7.4.3 in /usr/local/lib/python3.7/dist-packages (from huggingface-hub<1.0,>=0.1.0->transformers) (4.2.0)\n",
      "Requirement already satisfied: pyparsing!=3.0.5,>=2.0.2 in /usr/local/lib/python3.7/dist-packages (from packaging>=20.0->transformers) (3.0.9)\n",
      "Requirement already satisfied: zipp>=0.5 in /usr/local/lib/python3.7/dist-packages (from importlib-metadata->transformers) (3.8.0)\n",
      "Requirement already satisfied: certifi>=2017.4.17 in /usr/local/lib/python3.7/dist-packages (from requests->transformers) (2022.5.18.1)\n",
      "Requirement already satisfied: idna<3,>=2.5 in /usr/local/lib/python3.7/dist-packages (from requests->transformers) (2.10)\n",
      "Requirement already satisfied: chardet<4,>=3.0.2 in /usr/local/lib/python3.7/dist-packages (from requests->transformers) (3.0.4)\n",
      "Requirement already satisfied: urllib3!=1.25.0,!=1.25.1,<1.26,>=1.21.1 in /usr/local/lib/python3.7/dist-packages (from requests->transformers) (1.24.3)\n",
      "Looking in indexes: https://pypi.org/simple, https://us-python.pkg.dev/colab-wheels/public/simple/\n",
      "Requirement already satisfied: seaborn in /usr/local/lib/python3.7/dist-packages (0.11.2)\n",
      "Requirement already satisfied: scipy>=1.0 in /usr/local/lib/python3.7/dist-packages (from seaborn) (1.4.1)\n",
      "Requirement already satisfied: matplotlib>=2.2 in /usr/local/lib/python3.7/dist-packages (from seaborn) (3.2.2)\n",
      "Requirement already satisfied: pandas>=0.23 in /usr/local/lib/python3.7/dist-packages (from seaborn) (1.3.5)\n",
      "Requirement already satisfied: numpy>=1.15 in /usr/local/lib/python3.7/dist-packages (from seaborn) (1.21.6)\n",
      "Requirement already satisfied: cycler>=0.10 in /usr/local/lib/python3.7/dist-packages (from matplotlib>=2.2->seaborn) (0.11.0)\n",
      "Requirement already satisfied: python-dateutil>=2.1 in /usr/local/lib/python3.7/dist-packages (from matplotlib>=2.2->seaborn) (2.8.2)\n",
      "Requirement already satisfied: kiwisolver>=1.0.1 in /usr/local/lib/python3.7/dist-packages (from matplotlib>=2.2->seaborn) (1.4.2)\n",
      "Requirement already satisfied: pyparsing!=2.0.4,!=2.1.2,!=2.1.6,>=2.0.1 in /usr/local/lib/python3.7/dist-packages (from matplotlib>=2.2->seaborn) (3.0.9)\n",
      "Requirement already satisfied: typing-extensions in /usr/local/lib/python3.7/dist-packages (from kiwisolver>=1.0.1->matplotlib>=2.2->seaborn) (4.2.0)\n",
      "Requirement already satisfied: pytz>=2017.3 in /usr/local/lib/python3.7/dist-packages (from pandas>=0.23->seaborn) (2022.1)\n",
      "Requirement already satisfied: six>=1.5 in /usr/local/lib/python3.7/dist-packages (from python-dateutil>=2.1->matplotlib>=2.2->seaborn) (1.15.0)\n"
     ]
    }
   ]
  },
  {
   "cell_type": "code",
   "source": [
    "from dataclasses import field, dataclass\n",
    "from typing import Optional\n",
    "import pandas as pd\n",
    "import seaborn\n",
    "from tqdm import tqdm\n",
    "from transformers import AutoTokenizer, AutoModel, AutoConfig\n",
    "from sklearn.model_selection import train_test_split\n",
    "import random\n",
    "import numpy as np\n",
    "from torch import nn\n",
    "from torch.utils.data import DataLoader, Dataset\n",
    "import torch\n",
    "import torch.nn.functional as F"
   ],
   "metadata": {
    "id": "bp1PeoKFT3jW",
    "pycharm": {
     "name": "#%%\n"
    }
   },
   "execution_count": 2,
   "outputs": []
  },
  {
   "cell_type": "markdown",
   "source": [
    "Definiamo un dataset per il contrastive learning con text e positive pair"
   ],
   "metadata": {
    "id": "J0WSSINlW-qa",
    "pycharm": {
     "name": "#%% md\n"
    }
   }
  },
  {
   "cell_type": "code",
   "source": [
    "class CLDataset(Dataset):\n",
    "    def __init__(self, data):\n",
    "        self.pairs = data\n",
    "        \n",
    "    def __len__(self):\n",
    "        return self.pairs.shape[0]\n",
    "\n",
    "    def __getitem__(self, idx):\n",
    "        text = self.pairs['text'].iloc[idx]\n",
    "        positive = self.pairs['positive'].iloc[idx]\n",
    "        negative = self.pairs['negative'].iloc[idx]\n",
    "        ade = self.pairs['ade'].iloc[idx]\n",
    "        meddra = self.pairs['meddra'].iloc[idx]\n",
    "        negative_ade = self.pairs['negative_ade'].iloc[idx]\n",
    "        negative_meddra = self.pairs['negative_meddra'].iloc[idx]\n",
    "        positive_ade = self.pairs['positive_ade'].iloc[idx]\n",
    "        positive_meddra = self.pairs['positive_meddra'].iloc[idx]                \n",
    "        return text, positive, negative, ade, meddra, positive_ade, positive_meddra, negative_ade, negative_meddra\n"
   ],
   "metadata": {
    "id": "Co_zQgeQWicJ",
    "pycharm": {
     "name": "#%%\n"
    }
   },
   "execution_count": 3,
   "outputs": []
  },
  {
   "cell_type": "markdown",
   "source": [
    "Creiamo il modello usando BERT per il calcolo degli embedding e un layer lineare che allontanerà e avvicinerà gli embedding"
   ],
   "metadata": {
    "id": "tGybxGvCXGnr",
    "pycharm": {
     "name": "#%% md\n"
    }
   }
  },
  {
   "cell_type": "code",
   "execution_count": 7,
   "metadata": {
    "id": "EXlcxLnIWPg4",
    "pycharm": {
     "name": "#%%\n"
    }
   },
   "outputs": [],
   "source": [
    "class BertCL(nn.Module):\n",
    "    def __init__(self):\n",
    "        super(BertCL, self).__init__()\n",
    "\n",
    "        self.checkpoint = 'dmis-lab/biobert-v1.1'\n",
    "\n",
    "        # Bert per andare da token a embedding\n",
    "        self.bert_config = AutoConfig.from_pretrained(self.checkpoint)\n",
    "        self.bert = AutoModel.from_pretrained(self.checkpoint)\n",
    "\n",
    "        for param in self.bert.parameters():\n",
    "            param.requires_grad = False\n",
    "\n",
    "        # NN per effettuare il contrastive learning\n",
    "        self.l1 = nn.Linear(self.bert_config.hidden_size, self.bert_config.hidden_size)\n",
    "\n",
    "        self.drop = nn.Dropout(p=0.4)\n",
    "        self.activation = nn.Tanh()\n",
    "\n",
    "    def forward(self, tokenized_sentences):\n",
    "        sentence_embeddings = self.bert(**tokenized_sentences)\n",
    "        result = sentence_embeddings.last_hidden_state[:, 0, :]\n",
    "        result = self.l1(result)\n",
    "        return self.activation(result)\n",
    "\n",
    "device = torch.device('cuda' if torch.cuda.is_available() else 'cpu')\n",
    "\n",
    "train = pd.read_csv('/content/positive_negative_pairs_train.csv')\n",
    "\n",
    "BATCH_SIZE = 256\n",
    "TRAINING_EPOCHS = 4\n",
    "\n",
    "checkpoint = 'dmis-lab/biobert-v1.1'\n",
    "bert_tokenizer = AutoTokenizer.from_pretrained(checkpoint)\n",
    "bert_config = AutoConfig.from_pretrained(checkpoint)\n",
    "\n",
    "model = BertCL()\n",
    "model.to(device)\n",
    "optimizer = torch.optim.Adam(filter(lambda p: p.requires_grad, model.parameters()), lr=0.001)\n",
    "\n",
    "train_dataset = CLDataset(train)\n",
    "train_dataloader = DataLoader(train_dataset,\n",
    "                              num_workers=2,\n",
    "                              pin_memory=True, \n",
    "                              batch_size=BATCH_SIZE, \n",
    "                              shuffle=True)"
   ]
  },
  {
   "cell_type": "code",
   "source": [
    "class ContrastiveTrainingLoss(torch.nn.Module):\n",
    "\n",
    "    def __init__(self):\n",
    "        super(ContrastiveTrainingLoss, self).__init__()\n",
    "        self.cos_sim = torch.nn.CosineSimilarity() \n",
    "\n",
    "    def forward(self, inputs, positives, negatives):\n",
    "        batch_size = inputs.shape[0]\n",
    "        min_same_pair = self.cos_sim(inputs, positives).abs().mean()\n",
    "        max_diff_pair = self.cos_sim(inputs, negatives).abs().mean()\n",
    "        \n",
    "        return F.relu(min_same_pair + max_diff_pair)"
   ],
   "metadata": {
    "id": "O5LVoKbZWiuL",
    "pycharm": {
     "name": "#%%\n"
    }
   },
   "execution_count": 8,
   "outputs": []
  },
  {
   "cell_type": "markdown",
   "source": [
    "# training e testing"
   ],
   "metadata": {
    "id": "NDKr7WpZXuVI",
    "pycharm": {
     "name": "#%% md\n"
    }
   }
  },
  {
   "cell_type": "code",
   "source": [
    "loss = ContrastiveTrainingLoss()\n",
    "running_loss = []\n",
    "\n",
    "model.train()\n",
    "for epoch in tqdm(range(TRAINING_EPOCHS), disable=False):\n",
    "    for batch_idx, batch in enumerate(train_dataloader):\n",
    "        sentences, positives, negatives, ades, meddras, positive_ades, positive_meddras, negative_ades, negative_meddras = batch\n",
    "\n",
    "        optimizer.zero_grad(set_to_none=True)\n",
    "\n",
    "        tokenization_sentences = bert_tokenizer(list(sentences), padding=True, truncation=True, max_length=bert_config.max_position_embeddings, return_tensors=\"pt\")\n",
    "        tokenization_positives = bert_tokenizer(list(positives), padding=True, truncation=True, max_length=bert_config.max_position_embeddings, return_tensors=\"pt\") \n",
    "        tokenization_negatives = bert_tokenizer(list(negatives), padding=True, truncation=True, max_length=bert_config.max_position_embeddings, return_tensors=\"pt\") \n",
    "        tokenization_ades = bert_tokenizer(list(ades), padding=True, truncation=True, max_length=bert_config.max_position_embeddings, return_tensors=\"pt\")\n",
    "        tokenization_meddras = bert_tokenizer(list(meddras), padding=True, truncation=True, max_length=bert_config.max_position_embeddings, return_tensors=\"pt\")\n",
    "        tokenization_positive_ades = bert_tokenizer(list(positive_ades), padding=True, truncation=True, max_length=bert_config.max_position_embeddings, return_tensors=\"pt\")\n",
    "        tokenization_negative_ades = bert_tokenizer(list(negative_ades), padding=True, truncation=True, max_length=bert_config.max_position_embeddings, return_tensors=\"pt\")\n",
    "        tokenization_negative_meddras = bert_tokenizer(list(negative_meddras), padding=True, truncation=True, max_length=bert_config.max_position_embeddings, return_tensors=\"pt\")\n",
    "\n",
    "        tokenization_sentences.to(device)\n",
    "        tokenization_positives.to(device)\n",
    "        tokenization_negatives.to(device)\n",
    "        tokenization_ades.to(device)\n",
    "        tokenization_meddras.to(device)\n",
    "        tokenization_positive_ades.to(device)\n",
    "        tokenization_negative_ades.to(device)\n",
    "        tokenization_negative_meddras.to(device)\n",
    "\n",
    "        sentence_output = model(tokenization_sentences)\n",
    "        positive_output = model(tokenization_positives)\n",
    "        negative_output = model(tokenization_negatives)\n",
    "        ades_output = model(tokenization_ades)\n",
    "        meddra_output = model(tokenization_meddras)\n",
    "        positive_ade_output = model(tokenization_positive_ades)\n",
    "        negative_meddra_output = model(tokenization_negative_meddras)\n",
    "        negative_ade_output = model(tokenization_negative_ades)\n",
    "\n",
    "        # Avviciniamo i positive pairs e i negative pairs sia nel caso delle frasi \n",
    "        # sia nel caso degli ade\n",
    "        sentences_loss = loss(sentence_output, positive_output, negative_output)\n",
    "        output1 = loss(ades_output, positive_ade_output, negative_ade_output)\n",
    "        # Avviciniamo gli ade ai corrispondenti meddra allontanando gli altri ade\n",
    "        output2 = loss(ades_output, meddra_output, negative_meddra_output)\n",
    "        output3 = loss(meddra_output, meddra_output, negative_meddra_output)\n",
    "        \n",
    "        output = sentences_loss + output1 + output2 + output3\n",
    "\n",
    "        output.backward()\n",
    "        torch.nn.utils.clip_grad_norm_(model.parameters(), 1.0)\n",
    "        optimizer.step()\n",
    "\n",
    "        running_loss.append(output.item())\n",
    "\n",
    "seaborn.lineplot(x=range(len(running_loss)), y=running_loss)"
   ],
   "metadata": {
    "id": "P-wqnTpTYE8G",
    "colab": {
     "base_uri": "https://localhost:8080/",
     "height": 302
    },
    "outputId": "03242591-22b6-4666-ee3b-64bf55ea4500",
    "pycharm": {
     "name": "#%%\n"
    }
   },
   "execution_count": 9,
   "outputs": [
    {
     "output_type": "stream",
     "name": "stderr",
     "text": [
      "100%|██████████| 4/4 [22:27<00:00, 336.86s/it]\n"
     ]
    },
    {
     "output_type": "execute_result",
     "data": {
      "text/plain": [
       "<matplotlib.axes._subplots.AxesSubplot at 0x7f38aa594d10>"
      ]
     },
     "metadata": {},
     "execution_count": 9
    },
    {
     "output_type": "display_data",
     "data": {
      "text/plain": [
       "<Figure size 432x288 with 1 Axes>"
      ],
      "image/png": "[encoded data removed]"
     },
     "metadata": {
      "needs_background": "light"
     }
    }
   ]
  },
  {
   "cell_type": "code",
   "source": [
    "class CLTestDataset(Dataset):\n",
    "    def __init__(self, data):\n",
    "        self.data = data\n",
    "        \n",
    "    def __len__(self):\n",
    "        return self.data.shape[0]\n",
    "\n",
    "    def __getitem__(self, idx):\n",
    "        text = self.data['text'].iloc[idx]\n",
    "        ade = self.data['ade'].iloc[idx]\n",
    "        meddra = self.data['meddra'].iloc[idx]\n",
    "            \n",
    "        return text, ade, meddra\n",
    "\n",
    "test = pd.read_csv('/content/positive_negative_pairs_test.csv')\n",
    "test_dataset = CLTestDataset(test)\n",
    "test_dataloader = DataLoader(test_dataset, batch_size=BATCH_SIZE, shuffle=False)\n",
    "\n",
    "model.eval()\n",
    "test_loss = 0.0\n",
    "to_classify = test.shape[0]\n",
    "correctly_classified = 0\n",
    "correct_meddra_in_top_5 = 0\n",
    "wrongly_classified = 0\n",
    "\n",
    "# codifichiamo i meddra \n",
    "unique_meddras = test['meddra'].unique()\n",
    "tokenization_meddra = bert_tokenizer(list(unique_meddras), padding=True, truncation=True,\n",
    "                                     max_length=bert_config.max_position_embeddings,\n",
    "                                     return_tensors=\"pt\")\n",
    "tokenization_meddra.to(device)\n",
    "encoded_meddras = model(tokenization_meddra)\n",
    "encoded_meddras.to(device)\n",
    "\n",
    "for batch_idx, batch in enumerate(tqdm(test_dataloader)):\n",
    "    sentences, ades, meddras = batch\n",
    "    \n",
    "    tokenization_ades = bert_tokenizer(list(ades), padding=True, truncation=True,\n",
    "                                                max_length=bert_config.max_position_embeddings,\n",
    "                                                return_tensors=\"pt\")\n",
    "    tokenization_ades.to(device)\n",
    "\n",
    "    output = model(tokenization_ades)\n",
    "\n",
    "    # Controlliamo quale dei meddra ha l'embedding più vicino al ade\n",
    "    # Ogni riga è la distanza dall'ade in riga i al meddra in colonna j\n",
    "    distance_encoding_to_meddra = torch.cdist(output, encoded_meddras, p=2)\n",
    "\n",
    "    # Per ogni riga prendiamo l'indice dei 5 meddra più vicini all'ade\n",
    "    _, closest_meddra_to_ade_indices = torch.topk(distance_encoding_to_meddra, k=5, dim=1, largest=False)\n",
    "\n",
    "    for (meddra, closest_meddras_to_ade) in zip(list(meddras), closest_meddra_to_ade_indices):\n",
    "      closest_meddras = [ unique_meddras[index] for index in closest_meddras_to_ade]\n",
    "\n",
    "      if closest_meddras[0] == meddra:\n",
    "        correctly_classified += 1\n",
    "      elif meddra in closest_meddras:\n",
    "        correct_meddra_in_top_5 += 1\n",
    "      else:\n",
    "        wrongly_classified += 1\n",
    "\n",
    "print()\n",
    "print(f\"Examples: {to_classify}\")\n",
    "print(f\"Correctly classified: {correctly_classified}\")\n",
    "print(f\"Correct meddra is in the top 5: {correct_meddra_in_top_5}\")\n"
   ],
   "metadata": {
    "id": "Db9fWa4Iy66T",
    "colab": {
     "base_uri": "https://localhost:8080/"
    },
    "outputId": "0028b4b9-c1d7-435c-df13-8d5c5d58686a",
    "pycharm": {
     "name": "#%%\n"
    }
   },
   "execution_count": 10,
   "outputs": [
    {
     "output_type": "stream",
     "name": "stderr",
     "text": [
      "100%|██████████| 23/23 [00:08<00:00,  2.78it/s]"
     ]
    },
    {
     "output_type": "stream",
     "name": "stdout",
     "text": [
      "\n",
      "Examples: 5864\n",
      "Correctly classified: 1598\n",
      "Correct meddra is in the top 5: 439\n"
     ]
    },
    {
     "output_type": "stream",
     "name": "stderr",
     "text": [
      "\n"
     ]
    }
   ]
  },
  {
   "cell_type": "code",
   "source": [
    "print(len(test[test['ade'] == test['meddra']]))"
   ],
   "metadata": {
    "id": "kiemuX8Muk_v",
    "pycharm": {
     "name": "#%%\n"
    }
   },
   "execution_count": null,
   "outputs": []
  },
  {
   "cell_type": "code",
   "source": [
    "from sklearn.manifold import TSNE\n",
    "import seaborn as sns\n",
    "import matplotlib.pyplot as plt\n",
    "from IPython.display import display\n",
    "%matplotlib inline\n",
    "%pylab inline\n",
    "\n",
    "vis = test.sample(n=1000, random_state=7)\n",
    "\n",
    "ade_tok =  bert_tokenizer(vis['ade'].tolist(), padding=True, truncation=True, max_length=bert_config.max_position_embeddings, return_tensors=\"pt\")\n",
    "meddra_tok = bert_tokenizer(vis['meddra'].unique().tolist(), padding=True, truncation=True, max_length=bert_config.max_position_embeddings, return_tensors=\"pt\")\n",
    "ade_tok.to(device)\n",
    "meddra_tok.to(device)\n",
    "\n",
    "model.eval()\n",
    "ade_emb = model(ade_tok).tolist()\n",
    "meddra_emb = model(meddra_tok).tolist()\n",
    "\n",
    "del ade_tok\n",
    "del meddra_tok\n",
    "\n",
    "ade_coords = TSNE(n_components=2, random_state=7).fit_transform(ade_emb)\n",
    "meddra_coords = TSNE(n_components=2, random_state=7).fit_transform(meddra_emb)\n",
    "\n",
    "x = [el[0] for el in ade_coords]\n",
    "y = [el[1] for el in ade_coords]\n",
    "\n",
    "md_x = [el[0] for el in meddra_coords]\n",
    "md_y = [el[1] for el in meddra_coords]\n",
    "\n",
    "vis_ade = pd.DataFrame({\n",
    "    'type': 'ade',\n",
    "    'meddra': vis['meddra'],\n",
    "    'x' : x,\n",
    "    'y' : y,\n",
    "})\n",
    "\n",
    "vis_meddra = pd.DataFrame({\n",
    "    'type': 'meddra',\n",
    "    'meddra': vis['meddra'].unique(),\n",
    "    'x' : md_x,\n",
    "    'y' : md_y\n",
    "})\n",
    "\n",
    "vis_df = pd.concat([vis_ade, vis_meddra])\n",
    "\n",
    "sns.scatterplot(data=vis_df, \n",
    "                x='x', y='y', \n",
    "                hue='meddra', \n",
    "                style='type').legend([],[], frameon=False)\n",
    "plt.show()\n"
   ],
   "metadata": {
    "id": "0wa89v5bnlZF",
    "pycharm": {
     "name": "#%%\n"
    }
   },
   "execution_count": null,
   "outputs": []
  }
 ]
}
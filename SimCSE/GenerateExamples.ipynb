{
  "nbformat": 4,
  "nbformat_minor": 0,
  "metadata": {
    "colab": {
      "name": "GenerateExamples.ipynb",
      "provenance": [],
      "collapsed_sections": []
    },
    "kernelspec": {
      "name": "python3",
      "display_name": "Python 3"
    },
    "language_info": {
      "name": "python"
    },
    "accelerator": "GPU"
  },
  "cells": [
    {
      "cell_type": "code",
      "source": [
        "!pip install simcse"
      ],
      "metadata": {
        "colab": {
          "base_uri": "https://localhost:8080/"
        },
        "id": "Xc5lsI9c2Vj0",
        "outputId": "2c19250e-6a08-42ae-d275-494466a8cbda"
      },
      "execution_count": null,
      "outputs": [
        {
          "output_type": "stream",
          "name": "stdout",
          "text": [
            "Looking in indexes: https://pypi.org/simple, https://us-python.pkg.dev/colab-wheels/public/simple/\n",
            "Requirement already satisfied: simcse in /usr/local/lib/python3.7/dist-packages (0.4)\n",
            "Requirement already satisfied: setuptools in /usr/local/lib/python3.7/dist-packages (from simcse) (57.4.0)\n",
            "Requirement already satisfied: scipy<1.6,>=1.5.4 in /usr/local/lib/python3.7/dist-packages (from simcse) (1.5.4)\n",
            "Requirement already satisfied: torch in /usr/local/lib/python3.7/dist-packages (from simcse) (1.11.0+cu113)\n",
            "Requirement already satisfied: numpy<1.20,>=1.19.5 in /usr/local/lib/python3.7/dist-packages (from simcse) (1.19.5)\n",
            "Requirement already satisfied: tqdm in /usr/local/lib/python3.7/dist-packages (from simcse) (4.64.0)\n",
            "Requirement already satisfied: scikit-learn in /usr/local/lib/python3.7/dist-packages (from simcse) (1.0.2)\n",
            "Requirement already satisfied: transformers in /usr/local/lib/python3.7/dist-packages (from simcse) (4.19.2)\n",
            "Requirement already satisfied: threadpoolctl>=2.0.0 in /usr/local/lib/python3.7/dist-packages (from scikit-learn->simcse) (3.1.0)\n",
            "Requirement already satisfied: joblib>=0.11 in /usr/local/lib/python3.7/dist-packages (from scikit-learn->simcse) (1.1.0)\n",
            "Requirement already satisfied: typing-extensions in /usr/local/lib/python3.7/dist-packages (from torch->simcse) (4.2.0)\n",
            "Requirement already satisfied: filelock in /usr/local/lib/python3.7/dist-packages (from transformers->simcse) (3.7.0)\n",
            "Requirement already satisfied: huggingface-hub<1.0,>=0.1.0 in /usr/local/lib/python3.7/dist-packages (from transformers->simcse) (0.7.0)\n",
            "Requirement already satisfied: regex!=2019.12.17 in /usr/local/lib/python3.7/dist-packages (from transformers->simcse) (2019.12.20)\n",
            "Requirement already satisfied: importlib-metadata in /usr/local/lib/python3.7/dist-packages (from transformers->simcse) (4.11.3)\n",
            "Requirement already satisfied: pyyaml>=5.1 in /usr/local/lib/python3.7/dist-packages (from transformers->simcse) (6.0)\n",
            "Requirement already satisfied: packaging>=20.0 in /usr/local/lib/python3.7/dist-packages (from transformers->simcse) (21.3)\n",
            "Requirement already satisfied: tokenizers!=0.11.3,<0.13,>=0.11.1 in /usr/local/lib/python3.7/dist-packages (from transformers->simcse) (0.12.1)\n",
            "Requirement already satisfied: requests in /usr/local/lib/python3.7/dist-packages (from transformers->simcse) (2.23.0)\n",
            "Requirement already satisfied: pyparsing!=3.0.5,>=2.0.2 in /usr/local/lib/python3.7/dist-packages (from packaging>=20.0->transformers->simcse) (3.0.9)\n",
            "Requirement already satisfied: zipp>=0.5 in /usr/local/lib/python3.7/dist-packages (from importlib-metadata->transformers->simcse) (3.8.0)\n",
            "Requirement already satisfied: chardet<4,>=3.0.2 in /usr/local/lib/python3.7/dist-packages (from requests->transformers->simcse) (3.0.4)\n",
            "Requirement already satisfied: idna<3,>=2.5 in /usr/local/lib/python3.7/dist-packages (from requests->transformers->simcse) (2.10)\n",
            "Requirement already satisfied: urllib3!=1.25.0,!=1.25.1,<1.26,>=1.21.1 in /usr/local/lib/python3.7/dist-packages (from requests->transformers->simcse) (1.24.3)\n",
            "Requirement already satisfied: certifi>=2017.4.17 in /usr/local/lib/python3.7/dist-packages (from requests->transformers->simcse) (2022.5.18.1)\n"
          ]
        }
      ]
    },
    {
      "cell_type": "code",
      "source": [
        "import pandas as pd\n",
        "from sklearn.model_selection import train_test_split\n",
        "\n",
        "from simcse import SimCSE\n",
        "import random\n",
        "import csv\n",
        "import numpy as np\n",
        "from tqdm import tqdm\n",
        "\n",
        "df = pd.read_csv('/content/combined.csv')\n",
        "\n",
        "train, test = train_test_split(df, test_size=0.8)\n",
        "\n",
        "model = SimCSE(\"princeton-nlp/sup-simcse-bert-base-uncased\")"
      ],
      "metadata": {
        "id": "dKw78bAL9Od7"
      },
      "execution_count": null,
      "outputs": []
    },
    {
      "cell_type": "code",
      "source": [
        "# Calcoliamo gli encoding che ci serviranno in seguito\n",
        "train['text_embedding'] = list(model.encode(train['text'].tolist()))\n",
        "train['ade_embedding'] = list(model.encode(train['ade'].tolist()))\n",
        "train['meddra_embedding'] = list(model.encode(train['meddra'].tolist()))\n"
      ],
      "metadata": {
        "colab": {
          "base_uri": "https://localhost:8080/"
        },
        "id": "olh-sh6k9E3s",
        "outputId": "1bc4d297-3fb8-470a-80c8-706c3f45b462"
      },
      "execution_count": null,
      "outputs": [
        {
          "output_type": "stream",
          "name": "stderr",
          "text": [
            "100%|██████████| 23/23 [07:04<00:00, 18.46s/it]\n",
            "100%|██████████| 23/23 [00:51<00:00,  2.25s/it]\n",
            "100%|██████████| 23/23 [00:39<00:00,  1.73s/it]\n"
          ]
        }
      ]
    },
    {
      "cell_type": "code",
      "execution_count": null,
      "metadata": {
        "id": "tyNYt7ob2Pyu",
        "colab": {
          "base_uri": "https://localhost:8080/"
        },
        "outputId": "7a4bdaea-3459-43b6-9d77-edf3dbb01563"
      },
      "outputs": [
        {
          "output_type": "stream",
          "name": "stderr",
          "text": [
            "100%|██████████| 5/5 [00:20<00:00,  4.04s/it]\n"
          ]
        }
      ],
      "source": [
        "texts = []\n",
        "ades = []\n",
        "meddras = []\n",
        "positives = []\n",
        "positive_ades = []\n",
        "positive_meddras = []\n",
        "negatives = []\n",
        "negative_ades = []\n",
        "negative_meddras = []\n",
        "\n",
        "# Per lo stesso testo 5 esempi positivi e 5 negativi\n",
        "# Alla peggio sono gli stessi 5 esempi\n",
        "N_PAIRS_FOR_TEXT = 5\n",
        "\n",
        "for _ in tqdm(range(N_PAIRS_FOR_TEXT)):\n",
        "  # Calcolo dei positives e dei negatives\n",
        "  for index, (text, ade, meddra, _, text_embedding, _, _) in train.iterrows():\n",
        "      same_meddra_pair = train.loc[(train['meddra'] == meddra) & (train['text'] != text)]\n",
        "      # Una riga con lo stesso , meddra allora l'esempio positivo è il meddra\n",
        "      if not same_meddra_pair.empty:\n",
        "        same_meddra_row = same_meddra_pair.sample(n=1) \n",
        "        positive: str = same_meddra_row.iloc[0, train.columns.get_loc('text')]\n",
        "        positive_ade: str = same_meddra_row.iloc[0, train.columns.get_loc('ade')]\n",
        "        positive_meddra: str = same_meddra_row.iloc[0, train.columns.get_loc('meddra')]\n",
        "      else:\n",
        "        positive: str = meddra\n",
        "        positive_ade: str = ade\n",
        "        positive_meddra: str = meddra\n",
        "\n",
        "      # Opzione 1: L'esempio negativo è semplicemente un testo con meddra diverso\n",
        "      # I testi che hanno lo stesso meddra e che non possiamo prendere\n",
        "      rows_with_same_meddra = train.loc[train['meddra'] == meddra]\n",
        "      texts_with_same_meddra = rows_with_same_meddra['text'].tolist()\n",
        "      # Dobbiamo fare così perchè potrebbe esserci un testo con più ade che mappano in diversi meddra per cui rischiamo\n",
        "      # di prendere come esempio negativo un testo con lo stesso meddra ad esempio\n",
        "      # testo1 ade1 meddra1\n",
        "      # testo1 ade2 meddra2\n",
        "      # In questo caso se volessimo trovare un esempio negativo per meddra2 potremmo prendere la riga 1\n",
        "      # selezionando il testo1 che ha un meddra diverso (che però contiene anche lo stesso meddra2) potremmo quindi\n",
        "      # addirittura selezionare lo stesso testo come esempio negativo\n",
        "      different_meddra_rows = train.loc[~ train['text'].isin(texts_with_same_meddra)]\n",
        "      # Opzione 2: Usiamo il framework SimCSE per cercare frasi con embedding simili al testo con diverso meddra\n",
        "      if not different_meddra_rows.empty:\n",
        "        # Troviamo l'indice dell'embedding più vicino\n",
        "        diff_rows_sample = different_meddra_rows.sample(n=N_PAIRS_FOR_TEXT)\n",
        "        different_meddra_embeddings = np.array([embedding.numpy() for embedding in diff_rows_sample['text_embedding']])\n",
        "\n",
        "        distances = np.linalg.norm(different_meddra_embeddings - text_embedding.numpy(), axis=1)\n",
        "        min_distance_index = np.argmin(distances)\n",
        "\n",
        "        # Con l'indice prendiamo la riga nel vettore dei testi con meddra diverso\n",
        "        negative =  diff_rows_sample.iloc[min_distance_index, train.columns.get_loc('text')]\n",
        "        negative_ade: str =  diff_rows_sample.iloc[min_distance_index, train.columns.get_loc('ade')]\n",
        "        negative_meddra: str =  diff_rows_sample.iloc[min_distance_index, train.columns.get_loc('meddra')]\n",
        "\n",
        "      else:\n",
        "        continue\n",
        "        \n",
        "\n",
        "      texts.append(text)\n",
        "      ades.append(ade)\n",
        "      meddras.append(meddra)\n",
        "      positives.append(positive)\n",
        "      positive_ades.append(positive_ade)\n",
        "      positive_meddras.append(positive_meddra)\n",
        "      negatives.append(negative)\n",
        "      negative_ades.append(negative_ade)\n",
        "      negative_meddras.append(negative_meddra)"
      ]
    },
    {
      "cell_type": "code",
      "source": [
        "positive_negative_pairs = pd.DataFrame({\n",
        "    'text': texts,\n",
        "    'positive': positives,\n",
        "    'negative': negatives,\n",
        "    'ade': ades,\n",
        "    'meddra': meddras,\n",
        "    'positive_ade': positive_ades,\n",
        "    'positive_meddra': positive_meddras,\n",
        "    'negative_ade': negative_ades,\n",
        "    'negative_meddra': negative_meddras\n",
        "})\n",
        "\n",
        "print(positive_negative_pairs.head(5))\n"
      ],
      "metadata": {
        "id": "kq54qV0hc9zS",
        "colab": {
          "base_uri": "https://localhost:8080/"
        },
        "outputId": "cd27c818-5dfe-422f-d5c1-d15d2fe2e382"
      },
      "execution_count": null,
      "outputs": [
        {
          "output_type": "stream",
          "name": "stdout",
          "text": [
            "                                                text  \\\n",
            "0  sterted with swelling in one ankle then a knee...   \n",
            "1  weakness, fatigue, muscle spasms, stiffness al...   \n",
            "2  upset stomach, nausea, vomiting, abdominal pai...   \n",
            "3  last night i was a mermaid and then a wizard w...   \n",
            "4  after a routine check up my cholesterol level ...   \n",
            "\n",
            "                                            positive  \\\n",
            "0                          constant lightheadedness.   \n",
            "1  severe back pain muscles pain loss of energy, ...   \n",
            "2  rt @uffelanie: just wondering where the side e...   \n",
            "3  @droz i take trazodone for my #insomina &amp; ...   \n",
            "4    i have been on this medicine for about 8 years.   \n",
            "\n",
            "                                            negative  \\\n",
            "0  my feet feel like i have stone bruises just in...   \n",
            "1  bloating - gi difficulties, added weight, weak...   \n",
            "2  shoulder and neck muscle pain, tender joints, ...   \n",
            "3  imence pain in legs,calf,feet,cramping in legs...   \n",
            "4  i had diarrhea for a whole week;bad uterine cr...   \n",
            "\n",
            "                                                 ade          meddra  \\\n",
            "0                              soreness in shoulders   shoulder pain   \n",
            "1                                      low in energy  loss of energy   \n",
            "2                                       irritability       irritable   \n",
            "3  last night i was a mermaid and then a wizard w...  bizarre dreams   \n",
            "4                               pain in my hipjoints     pain in hip   \n",
            "\n",
            "          positive_ade positive_meddra                negative_ade  \\\n",
            "0        shoulder pain   shoulder pain  my hips hurt on both sides   \n",
            "1       loss of energy  loss of energy                added weight   \n",
            "2     hating the world       irritable            trouble sleeping   \n",
            "3         crazy dreams  bizarre dreams         imence pain in legs   \n",
            "4  pain in my left hip     pain in hip    heavy menstrual bleeding   \n",
            "\n",
            "       negative_meddra  \n",
            "0          pain in hip  \n",
            "1     weight increased  \n",
            "2  difficulty sleeping  \n",
            "3                 pain  \n",
            "4          menorrhagia  \n"
          ]
        }
      ]
    },
    {
      "cell_type": "code",
      "source": [
        "positive_negative_pairs.to_csv('/content/positive_negative_pairs_train.csv', index=False)\n",
        "test.to_csv('/content/positive_negative_pairs_test.csv', index=False)"
      ],
      "metadata": {
        "id": "daiy24fVgBYE"
      },
      "execution_count": null,
      "outputs": []
    },
    {
      "cell_type": "markdown",
      "source": [
        "Scarichiamo i file appena creati"
      ],
      "metadata": {
        "id": "DNVHhBTlSmNB"
      }
    },
    {
      "cell_type": "code",
      "source": [
        "#from google.colab import files\n",
        "#files.download('/content/positive_negative_pairs_train.csv')\n",
        "#files.download('/content/positive_negative_pairs_test.csv')"
      ],
      "metadata": {
        "id": "NmCMTnLpSmCY",
        "colab": {
          "base_uri": "https://localhost:8080/",
          "height": 17
        },
        "outputId": "d6ea498e-dd35-422b-df45-52adecd9a7a3"
      },
      "execution_count": null,
      "outputs": [
        {
          "output_type": "display_data",
          "data": {
            "text/plain": [
              "<IPython.core.display.Javascript object>"
            ],
            "application/javascript": [
              "\n",
              "    async function download(id, filename, size) {\n",
              "      if (!google.colab.kernel.accessAllowed) {\n",
              "        return;\n",
              "      }\n",
              "      const div = document.createElement('div');\n",
              "      const label = document.createElement('label');\n",
              "      label.textContent = `Downloading \"${filename}\": `;\n",
              "      div.appendChild(label);\n",
              "      const progress = document.createElement('progress');\n",
              "      progress.max = size;\n",
              "      div.appendChild(progress);\n",
              "      document.body.appendChild(div);\n",
              "\n",
              "      const buffers = [];\n",
              "      let downloaded = 0;\n",
              "\n",
              "      const channel = await google.colab.kernel.comms.open(id);\n",
              "      // Send a message to notify the kernel that we're ready.\n",
              "      channel.send({})\n",
              "\n",
              "      for await (const message of channel.messages) {\n",
              "        // Send a message to notify the kernel that we're ready.\n",
              "        channel.send({})\n",
              "        if (message.buffers) {\n",
              "          for (const buffer of message.buffers) {\n",
              "            buffers.push(buffer);\n",
              "            downloaded += buffer.byteLength;\n",
              "            progress.value = downloaded;\n",
              "          }\n",
              "        }\n",
              "      }\n",
              "      const blob = new Blob(buffers, {type: 'application/binary'});\n",
              "      const a = document.createElement('a');\n",
              "      a.href = window.URL.createObjectURL(blob);\n",
              "      a.download = filename;\n",
              "      div.appendChild(a);\n",
              "      a.click();\n",
              "      div.remove();\n",
              "    }\n",
              "  "
            ]
          },
          "metadata": {}
        },
        {
          "output_type": "display_data",
          "data": {
            "text/plain": [
              "<IPython.core.display.Javascript object>"
            ],
            "application/javascript": [
              "download(\"download_2029edb8-7928-426f-8c32-327bfd52baa2\", \"positive_negative_pairs_train.csv\", 3160244)"
            ]
          },
          "metadata": {}
        },
        {
          "output_type": "display_data",
          "data": {
            "text/plain": [
              "<IPython.core.display.Javascript object>"
            ],
            "application/javascript": [
              "\n",
              "    async function download(id, filename, size) {\n",
              "      if (!google.colab.kernel.accessAllowed) {\n",
              "        return;\n",
              "      }\n",
              "      const div = document.createElement('div');\n",
              "      const label = document.createElement('label');\n",
              "      label.textContent = `Downloading \"${filename}\": `;\n",
              "      div.appendChild(label);\n",
              "      const progress = document.createElement('progress');\n",
              "      progress.max = size;\n",
              "      div.appendChild(progress);\n",
              "      document.body.appendChild(div);\n",
              "\n",
              "      const buffers = [];\n",
              "      let downloaded = 0;\n",
              "\n",
              "      const channel = await google.colab.kernel.comms.open(id);\n",
              "      // Send a message to notify the kernel that we're ready.\n",
              "      channel.send({})\n",
              "\n",
              "      for await (const message of channel.messages) {\n",
              "        // Send a message to notify the kernel that we're ready.\n",
              "        channel.send({})\n",
              "        if (message.buffers) {\n",
              "          for (const buffer of message.buffers) {\n",
              "            buffers.push(buffer);\n",
              "            downloaded += buffer.byteLength;\n",
              "            progress.value = downloaded;\n",
              "          }\n",
              "        }\n",
              "      }\n",
              "      const blob = new Blob(buffers, {type: 'application/binary'});\n",
              "      const a = document.createElement('a');\n",
              "      a.href = window.URL.createObjectURL(blob);\n",
              "      a.download = filename;\n",
              "      div.appendChild(a);\n",
              "      a.click();\n",
              "      div.remove();\n",
              "    }\n",
              "  "
            ]
          },
          "metadata": {}
        },
        {
          "output_type": "display_data",
          "data": {
            "text/plain": [
              "<IPython.core.display.Javascript object>"
            ],
            "application/javascript": [
              "download(\"download_eae16ce0-7227-4206-803f-5d205391c933\", \"positive_negative_pairs_test.csv\", 833268)"
            ]
          },
          "metadata": {}
        }
      ]
    }
  ]
}
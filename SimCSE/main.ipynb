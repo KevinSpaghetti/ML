{
 "nbformat": 4,
 "nbformat_minor": 0,
 "metadata": {
  "colab": {
   "name": "LabAvanzatoML.ipynb",
   "provenance": [],
   "collapsed_sections": [],
   "mount_file_id": "1YvrzSCFq87wJwpc99d0Rym6O7jKmaj1Q",
   "authorship_tag": "ABX9TyObrvHbP9AXdXShRcN6tDvT"
  },
  "kernelspec": {
   "name": "mlenv",
   "language": "python",
   "display_name": "MLenv"
  },
  "language_info": {
   "name": "python"
  },
  "accelerator": "TPU"
 },
 "cells": [
  {
   "cell_type": "markdown",
   "source": [
    "Script per generare un dataset per il contrastive learning che contiene 3 stringhe per ogni riga:\n",
    "- Un tweet\n",
    "- Un testo che contiene lo stesso ade e meddra (positive)\n",
    "- Un testo che contiene un altro ade e meddra (negative)"
   ],
   "metadata": {
    "collapsed": false,
    "pycharm": {
     "name": "#%% md\n"
    }
   }
  },
  {
   "cell_type": "code",
   "execution_count": 25,
   "metadata": {
    "colab": {
     "base_uri": "https://localhost:8080/",
     "height": 1000
    },
    "id": "U8qs0SuorsrU",
    "executionInfo": {
     "status": "ok",
     "timestamp": 1652897787199,
     "user_tz": -120,
     "elapsed": 34310,
     "user": {
      "displayName": "Kevin della schiava",
      "userId": "15786898436914018707"
     }
    },
    "outputId": "94d5d75b-cb5e-4ef7-b220-f7669f2509bb",
    "pycharm": {
     "name": "#%%\n"
    }
   },
   "outputs": [
    {
     "name": "stderr",
     "output_type": "stream",
     "text": [
      "[nltk_data] Downloading package punkt to\n",
      "[nltk_data]     C:\\Users\\Kevin\\AppData\\Roaming\\nltk_data...\n",
      "[nltk_data]   Package punkt is already up-to-date!\n",
      "[nltk_data] Downloading package wordnet to\n",
      "[nltk_data]     C:\\Users\\Kevin\\AppData\\Roaming\\nltk_data...\n",
      "[nltk_data]   Package wordnet is already up-to-date!\n",
      "[nltk_data] Downloading package omw-1.4 to\n",
      "[nltk_data]     C:\\Users\\Kevin\\AppData\\Roaming\\nltk_data...\n",
      "[nltk_data]   Package omw-1.4 is already up-to-date!\n",
      "[nltk_data] Downloading package wordnet2021 to\n",
      "[nltk_data]     C:\\Users\\Kevin\\AppData\\Roaming\\nltk_data...\n",
      "[nltk_data]   Package wordnet2021 is already up-to-date!\n"
     ]
    }
   ],
   "source": [
    "import pandas as pd\n",
    "from nltk.corpus import wordnet2021 as wd\n",
    "from sklearn.model_selection import train_test_split\n",
    "import nltk\n",
    "nltk.download('punkt')\n",
    "nltk.download('wordnet')\n",
    "nltk.download('omw-1.4')\n",
    "nltk.download('wordnet2021')\n",
    "\n",
    "from simcse import SimCSE\n",
    "import random\n",
    "import numpy as np\n",
    "\n",
    "seed = 42\n",
    "random.seed(seed)\n",
    "np.random.seed(seed)"
   ]
  },
  {
   "cell_type": "code",
   "source": [
    "df1 = pd.read_csv('./datasets/cadec_meddra.csv', sep=\",\")\n",
    "df1 = df1.drop('full_text', axis=1)\n",
    "df2 = pd.read_csv('./datasets/smm4h20_meddra.csv', sep=\",\")\n",
    "df = pd.concat([df1, df2])"
   ],
   "metadata": {
    "colab": {
     "base_uri": "https://localhost:8080/"
    },
    "id": "UP0ZoWfkuIxo",
    "executionInfo": {
     "status": "ok",
     "timestamp": 1652897854181,
     "user_tz": -120,
     "elapsed": 224,
     "user": {
      "displayName": "Kevin della schiava",
      "userId": "15786898436914018707"
     }
    },
    "outputId": "1feb800a-f57d-4781-90ea-a404d01a8e67",
    "pycharm": {
     "name": "#%%\n"
    }
   },
   "execution_count": 26,
   "outputs": []
  },
  {
   "cell_type": "markdown",
   "source": [
    "Dividiamo i dati in training set e evaluation set."
   ],
   "metadata": {
    "collapsed": false,
    "pycharm": {
     "name": "#%% md\n"
    }
   },
   "outputs": []
  },
  {
   "cell_type": "code",
   "execution_count": 27,
   "outputs": [],
   "source": [
    "train, test = train_test_split(df, test_size=0.8)"
   ],
   "metadata": {
    "collapsed": false,
    "pycharm": {
     "name": "#%%\n"
    }
   }
  },
  {
   "cell_type": "code",
   "execution_count": 28,
   "outputs": [],
   "source": [
    "if 'model' not in locals():\n",
    "  model = SimCSE(\"princeton-nlp/sup-simcse-bert-base-uncased\")"
   ],
   "metadata": {
    "collapsed": false,
    "pycharm": {
     "name": "#%%\n"
    }
   }
  },
  {
   "cell_type": "markdown",
   "source": [
    "Prendiamo ogni riga del dataset di training per trovare un esempio positive e un esempio negative.\n",
    "- Un esempio positivo è un testo che contiene lo stesso ade mappato nello stesso meddra\n",
    "- Un esempio negativo è un testo che che non contiene l'ade e il meddra"
   ],
   "metadata": {
    "collapsed": false,
    "pycharm": {
     "name": "#%% md\n"
    }
   }
  },
  {
   "cell_type": "code",
   "execution_count": 29,
   "outputs": [],
   "source": [
    "ades = train['ade']\n",
    "meddras = train['meddra']\n",
    "positives = []\n",
    "negatives = []"
   ],
   "metadata": {
    "collapsed": false,
    "pycharm": {
     "name": "#%%\n"
    }
   }
  },
  {
   "cell_type": "code",
   "execution_count": 48,
   "outputs": [
    {
     "name": "stdout",
     "output_type": "stream",
     "text": [
      "674    coming off of cymbalta has been the most exhau...\n",
      "Name: text, dtype: object\n",
      "943    arm stiffness.\n",
      "Name: text, dtype: object\n"
     ]
    }
   ],
   "source": [
    "# Calcolo dei positives e dei negatives\n",
    "for index, (text, ade, meddra, _) in train.iterrows():\n",
    "  same_ade_meddra_pair = df.loc[(df['ade'] == ade) & (df['meddra'] == meddra)]\n",
    "  # Se non ci sono righe con lo stesso paio ade, meddra allora l'esempio positivo è il meddra\n",
    "  positive: str = meddra\n",
    "  if not same_ade_meddra_pair.empty:\n",
    "    positive = same_ade_meddra_pair.sample(n=1)['text'].values[0]\n",
    "\n",
    "  # Se non ci sono esempi negativi allora il negative è un testo con meddra diverso\n",
    "  negative: str = train.loc[train['meddra'] != meddra].sample(n=1)['text']\n",
    "\n",
    "  positives.append(positive)\n",
    "  negatives.append(negative)\n",
    "\n",
    "print(positives[0])\n",
    "print(negatives[0])"
   ],
   "metadata": {
    "collapsed": false,
    "pycharm": {
     "name": "#%%\n"
    }
   }
  },
  {
   "cell_type": "markdown",
   "source": [
    "Salviamo il dataset"
   ],
   "metadata": {
    "collapsed": false,
    "pycharm": {
     "name": "#%% md\n"
    }
   }
  },
  {
   "cell_type": "code",
   "execution_count": null,
   "outputs": [],
   "source": [
    "to_save = pd.DataFrame({\n",
    "  'text' : train['text'],\n",
    "  'positive' : positives,\n",
    "  'negative' : negatives,\n",
    "  'ade': train['ade'],\n",
    "  'meddra': train['meddra']\n",
    "})\n",
    "\n",
    "to_save.to_csv('training/training_set.csv')\n",
    "test.to_csv('training/test_set.csv')"
   ],
   "metadata": {
    "collapsed": false,
    "pycharm": {
     "name": "#%%\n"
    }
   }
  }
 ]
}